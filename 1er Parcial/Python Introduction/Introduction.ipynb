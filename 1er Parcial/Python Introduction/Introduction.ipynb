{
 "cells": [
  {
   "cell_type": "markdown",
   "metadata": {},
   "source": [
    "# Introduction to Python"
   ]
  },
  {
   "cell_type": "markdown",
   "metadata": {},
   "source": [
    "Import Libraries"
   ]
  },
  {
   "cell_type": "code",
   "execution_count": null,
   "metadata": {},
   "outputs": [],
   "source": [
    "import numpy as np\n",
    "import os"
   ]
  },
  {
   "cell_type": "markdown",
   "metadata": {},
   "source": [
    "Define functions"
   ]
  },
  {
   "cell_type": "code",
   "execution_count": null,
   "metadata": {},
   "outputs": [],
   "source": [
    "print(\"Hello World!\")\n",
    "\n",
    "for i in range(5):\n",
    "    print(\"The number is: \", i)\n",
    "\n",
    "print(\"Out of the for\")\n",
    "\n",
    "aux = 0\n",
    "while aux < 5:\n",
    "    aux += 1\n",
    "    print(\"The number is: \", aux)\n",
    "\n",
    "\n",
    "if aux < 4:\n",
    "    print(\"condition is true\")\n",
    "elif aux > 10:\n",
    "    print(\"condition intermediate\")\n",
    "else:\n",
    "    print(\"condition is false\")"
   ]
  },
  {
   "cell_type": "markdown",
   "metadata": {},
   "source": [
    "Variable types"
   ]
  },
  {
   "cell_type": "code",
   "execution_count": null,
   "metadata": {},
   "outputs": [],
   "source": [
    "num = 1 #int\n",
    "num2 = 1.0 #float\n",
    "num3 = True #bool\n",
    "num4 = \"Hello\" #string\n",
    "\n",
    "print(type(num))\n",
    "print(type(num2))\n",
    "print(type(num3))\n",
    "print(type(num4))\n",
    "\n",
    "#Cast\n",
    "num5 = float(num) + num2\n",
    "print(num5)\n",
    "num6 = num4 + \": result - \" + str(num5)\n",
    "print(num6)\n",
    "print(len(num6))"
   ]
  },
  {
   "cell_type": "markdown",
   "metadata": {},
   "source": [
    "Python vectors"
   ]
  },
  {
   "cell_type": "code",
   "execution_count": null,
   "metadata": {},
   "outputs": [],
   "source": [
    "vector = [num, num2, num3, num4, num5, num6]\n",
    "print(vector)\n",
    "\n",
    "print(\"Length of vector: \", len(vector))\n",
    "\n",
    "vector.append(2.0) #Stack LIFO\n",
    "vector.pop(len(vector)-1) #delete last element (Stack)\n",
    "\n",
    "vector.insert(0,3.0) #Queue FIFO\n",
    "vector.pop(0) #delete first element (Queue)"
   ]
  },
  {
   "cell_type": "markdown",
   "metadata": {},
   "source": [
    "Functions"
   ]
  },
  {
   "cell_type": "code",
   "execution_count": null,
   "metadata": {},
   "outputs": [],
   "source": [
    "def suma(a,b, cond = True):\n",
    "    \n",
    "    c = a + b\n",
    "\n",
    "    if cond:\n",
    "        print(\"The result is: \", c)\n",
    "\n",
    "    return c\n",
    "\n",
    "suma(2,3, False)"
   ]
  }
 ],
 "metadata": {
  "kernelspec": {
   "display_name": "base",
   "language": "python",
   "name": "python3"
  },
  "language_info": {
   "codemirror_mode": {
    "name": "ipython",
    "version": 3
   },
   "file_extension": ".py",
   "mimetype": "text/x-python",
   "name": "python",
   "nbconvert_exporter": "python",
   "pygments_lexer": "ipython3",
   "version": "3.10.5"
  }
 },
 "nbformat": 4,
 "nbformat_minor": 2
}
